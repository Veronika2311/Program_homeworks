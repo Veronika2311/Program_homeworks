{
  "nbformat": 4,
  "nbformat_minor": 0,
  "metadata": {
    "kernelspec": {
      "display_name": "Python 3",
      "language": "python",
      "name": "python3"
    },
    "language_info": {
      "codemirror_mode": {
        "name": "ipython",
        "version": 3
      },
      "file_extension": ".py",
      "mimetype": "text/x-python",
      "name": "python",
      "nbconvert_exporter": "python",
      "pygments_lexer": "ipython3",
      "version": "3.7.3"
    },
    "colab": {
      "name": "Ganeeva_Veronika_hw2_1.ipynb",
      "provenance": [],
      "include_colab_link": true
    }
  },
  "cells": [
    {
      "cell_type": "markdown",
      "metadata": {
        "id": "view-in-github",
        "colab_type": "text"
      },
      "source": [
        "<a href=\"https://colab.research.google.com/github/Veronika2311/Program_homeworks/blob/master/Ganeeva_Veronika_hw2_1.ipynb\" target=\"_parent\"><img src=\"https://colab.research.google.com/assets/colab-badge.svg\" alt=\"Open In Colab\"/></a>"
      ]
    },
    {
      "cell_type": "markdown",
      "metadata": {
        "id": "jGEFY7h2NUhn",
        "colab_type": "text"
      },
      "source": [
        "# Морфология. Mystem и pymorphy\n",
        "\n",
        "### Файл для черновика - \"Анна Каренина\""
      ]
    },
    {
      "cell_type": "markdown",
      "metadata": {
        "id": "j8X9ZCvgNUhs",
        "colab_type": "text"
      },
      "source": [
        "## Mystem\n",
        "\n",
        "### pymorphy3"
      ]
    },
    {
      "cell_type": "markdown",
      "metadata": {
        "id": "mjZqXU-nNUhw",
        "colab_type": "text"
      },
      "source": [
        "1. распарсить файл с помощью mystem. Вопрос в том, в каком объёме"
      ]
    },
    {
      "cell_type": "code",
      "metadata": {
        "id": "rTU779VuNhLb",
        "colab_type": "code",
        "colab": {}
      },
      "source": [
        ""
      ],
      "execution_count": 0,
      "outputs": []
    },
    {
      "cell_type": "code",
      "metadata": {
        "id": "DunTBYM2NUh6",
        "colab_type": "code",
        "colab": {
          "base_uri": "https://localhost:8080/",
          "height": 34
        },
        "outputId": "330f1246-924d-489a-97a9-d595db3518ca"
      },
      "source": [
        "from pymystem3 import Mystem\n",
        "m = Mystem()"
      ],
      "execution_count": 1,
      "outputs": [
        {
          "output_type": "stream",
          "text": [
            "Installing mystem to /root/.local/bin/mystem from http://download.cdn.yandex.net/mystem/mystem-3.1-linux-64bit.tar.gz\n"
          ],
          "name": "stderr"
        }
      ]
    },
    {
      "cell_type": "code",
      "metadata": {
        "id": "NLL_Ew3WNUiG",
        "colab_type": "code",
        "colab": {}
      },
      "source": [
        "with open('cynix.txt', 'r', encoding='utf-8') as f:\n",
        "    text = f.read()"
      ],
      "execution_count": 0,
      "outputs": []
    },
    {
      "cell_type": "markdown",
      "metadata": {
        "id": "0-ZcbLk9Nv3K",
        "colab_type": "text"
      },
      "source": [
        ""
      ]
    },
    {
      "cell_type": "code",
      "metadata": {
        "id": "Kbjq-qs8NUiY",
        "colab_type": "code",
        "colab": {}
      },
      "source": [
        "%%time\n",
        "    \n",
        "lemmas = m.lemmatize(text)\n",
        "print(lemmas[0:100])"
      ],
      "execution_count": 0,
      "outputs": []
    },
    {
      "cell_type": "code",
      "metadata": {
        "scrolled": true,
        "id": "bz4SHrceNUit",
        "colab_type": "code",
        "colab": {},
        "outputId": "13068978-3c52-4f57-a506-3036ce88c82e"
      },
      "source": [
        "%%time\n",
        "full_stem = m.analyze(text)\n",
        "print(full_stem[0:100])"
      ],
      "execution_count": 0,
      "outputs": [
        {
          "output_type": "stream",
          "text": [
            "[{'analysis': [{'lex': 'долли', 'wt': 1, 'gr': 'S,имя,жен,од=(пр,мн|пр,ед|вин,мн|вин,ед|дат,мн|дат,ед|род,мн|род,ед|твор,мн|твор,ед|им,мн|им,ед)'}], 'text': 'Долли'}, {'text': ' '}, {'analysis': [{'lex': 'холодно', 'wt': 0.3243275119, 'gr': 'ADV='}], 'text': 'холодно'}, {'text': ' '}, {'analysis': [{'lex': 'посмотреть', 'wt': 1, 'gr': 'V,сов,пе=прош,ед,изъяв,жен'}], 'text': 'посмотрела'}, {'text': ' '}, {'analysis': [{'lex': 'на', 'wt': 0.9989522965, 'gr': 'PR='}], 'text': 'на'}, {'text': ' '}, {'analysis': [{'lex': 'анна', 'wt': 0.9921813822, 'gr': 'S,имя,жен,од=вин,ед'}], 'text': 'Анну'}, {'text': '. '}, {'analysis': [{'lex': 'она', 'wt': 1, 'gr': 'SPRO,ед,3-л,жен=им'}], 'text': 'Она'}, {'text': ' '}, {'analysis': [{'lex': 'ждать', 'wt': 1, 'gr': 'V,несов,пе=прош,ед,изъяв,жен'}], 'text': 'ждала'}, {'text': ' '}, {'analysis': [{'lex': 'теперь', 'wt': 1, 'gr': 'ADV='}], 'text': 'теперь'}, {'text': ' '}, {'analysis': [{'lex': 'притворно', 'wt': 0.9272542594, 'gr': 'ADV='}], 'text': 'притворно'}, {'text': '-'}, {'analysis': [{'lex': 'сочувственный', 'wt': 1, 'gr': 'A=(пр,мн,полн|вин,мн,полн,од|род,мн,полн)'}], 'text': 'сочувственных'}, {'text': ' '}, {'analysis': [{'lex': 'фраза', 'wt': 1, 'gr': 'S,жен,неод=род,мн'}], 'text': 'фраз'}, {'text': '; '}, {'analysis': [{'lex': 'но', 'wt': 0.9998906299, 'gr': 'CONJ='}], 'text': 'но'}, {'text': ' '}, {'analysis': [{'lex': 'анна', 'wt': 0.9992571156, 'gr': 'S,имя,жен,од=им,ед'}], 'text': 'Анна'}, {'text': ' '}, {'analysis': [{'lex': 'ничто', 'wt': 0.880853905, 'gr': 'SPRO,ед,сред=род'}], 'text': 'ничего'}, {'text': ' '}, {'analysis': [{'lex': 'такой', 'wt': 1, 'gr': 'APRO=(вин,ед,муж,од|род,ед,муж|род,ед,сред)'}], 'text': 'такого'}, {'text': ' '}, {'analysis': [{'lex': 'не', 'wt': 1, 'gr': 'PART='}], 'text': 'не'}, {'text': ' '}, {'analysis': [{'lex': 'сказать', 'wt': 1, 'gr': 'V,сов,пе=прош,ед,изъяв,жен'}], 'text': 'сказала'}, {'text': '.'}, {'text': ' \\n'}, {'text': ' -- '}, {'analysis': [{'lex': 'долли', 'wt': 1, 'gr': 'S,имя,жен,од=(пр,мн|пр,ед|вин,мн|вин,ед|дат,мн|дат,ед|род,мн|род,ед|твор,мн|твор,ед|им,мн|им,ед)'}], 'text': 'Долли'}, {'text': ', '}, {'analysis': [{'lex': 'милый', 'wt': 0.8690143091, 'gr': 'A=им,ед,полн,жен'}], 'text': 'милая'}, {'text': '!'}, {'text': ' -- '}, {'analysis': [{'lex': 'сказать', 'wt': 1, 'gr': 'V,сов,пе=прош,ед,изъяв,жен'}], 'text': 'сказала'}, {'text': ' '}, {'analysis': [{'lex': 'она', 'wt': 1, 'gr': 'SPRO,ед,3-л,жен=им'}], 'text': 'она'}, {'text': ', -- '}, {'analysis': [{'lex': 'я', 'wt': 0.9999716281, 'gr': 'SPRO,ед,1-л=им'}], 'text': 'я'}, {'text': ' '}, {'analysis': [{'lex': 'не', 'wt': 1, 'gr': 'PART='}], 'text': 'не'}, {'text': ' '}, {'analysis': [{'lex': 'хотеть', 'wt': 1, 'gr': 'V,несов,пе=непрош,ед,изъяв,1-л'}], 'text': 'хочу'}, {'text': ' '}, {'analysis': [{'lex': 'ни', 'wt': 0.4403619901, 'gr': 'CONJ='}], 'text': 'ни'}, {'text': ' '}, {'analysis': [{'lex': 'говорить', 'wt': 1, 'gr': 'V,несов,пе=инф'}], 'text': 'говорить'}, {'text': ' '}, {'analysis': [{'lex': 'ты', 'wt': 1, 'gr': 'SPRO,ед,2-л=(пр|дат)'}], 'text': 'тебе'}, {'text': ' '}, {'analysis': [{'lex': 'за', 'wt': 1, 'gr': 'PR='}], 'text': 'за'}, {'text': ' '}, {'analysis': [{'lex': 'он', 'wt': 0.951862938, 'gr': 'SPRO,ед,3-л,муж=(вин|род)'}], 'text': 'него'}, {'text': ', '}, {'analysis': [{'lex': 'ни', 'wt': 0.5596380099, 'gr': 'PART='}], 'text': 'ни'}, {'text': ' '}, {'analysis': [{'lex': 'утешать', 'wt': 1, 'gr': 'V,пе=инф,несов'}], 'text': 'утешать'}, {'text': '; '}, {'analysis': [{'lex': 'это', 'wt': 0.7809833731, 'gr': 'SPRO,ед,сред,неод=(вин|им)'}], 'text': 'это'}, {'text': ' '}, {'analysis': [{'lex': 'нельзя', 'wt': 1, 'gr': 'ADV,прдк='}], 'text': 'нельзя'}, {'text': '. '}, {'analysis': [{'lex': 'но', 'wt': 0.9998906299, 'gr': 'CONJ='}], 'text': 'Но'}, {'text': ', '}, {'analysis': [{'lex': 'душенька', 'wt': 0.8561434786, 'gr': 'S,мж,од=им,ед'}], 'text': 'душенька'}, {'text': ', '}, {'analysis': [{'lex': 'я', 'wt': 1, 'gr': 'SPRO,ед,1-л=(пр|дат)'}], 'text': 'мне'}, {'text': ' '}, {'analysis': [{'lex': 'просто', 'wt': 0.7704013228, 'gr': 'PART='}], 'text': 'просто'}, {'text': ' '}, {'analysis': [{'lex': 'жалко', 'wt': 0.9710081023, 'gr': 'ADV=вводн'}], 'text': 'жалко'}, {'text': ', '}, {'analysis': [{'lex': 'жалко', 'wt': 0.9710081023, 'gr': 'ADV=вводн'}], 'text': 'жалко'}, {'text': ' '}, {'analysis': [{'lex': 'ты', 'wt': 1, 'gr': 'SPRO,ед,2-л=(вин|род)'}], 'text': 'тебя'}, {'text': ' '}, {'analysis': [{'lex': 'весь', 'wt': 0.9998487331, 'gr': 'APRO=твор,ед,жен'}], 'text': 'всею'}, {'text': ' '}, {'analysis': [{'lex': 'душа', 'wt': 1, 'gr': 'S,жен,неод=твор,ед'}], 'text': 'душой'}, {'text': '!'}, {'text': ' \\n'}, {'text': ' '}, {'analysis': [{'lex': 'из-за', 'wt': 1, 'gr': 'PR='}], 'text': 'Из-за'}, {'text': ' '}, {'analysis': [{'lex': 'густой', 'wt': 1, 'gr': 'A=(пр,мн,полн|вин,мн,полн,од|род,мн,полн)'}], 'text': 'густых'}, {'text': ' '}, {'analysis': [{'lex': 'ресница', 'wt': 1, 'gr': 'S,жен,неод=род,мн'}], 'text': 'ресниц'}, {'text': ' '}, {'analysis': [{'lex': 'ее', 'wt': 1.234552234e-05, 'gr': 'APRO=(пр,мн|дат,мн|род,мн|твор,мн|им,мн|им,ед,жен|вин,ед,муж,од|род,ед,муж|род,ед,сред|вин,ед,сред|им,ед,сред|пр,ед,жен|дат,ед,жен|род,ед,жен|твор,ед,жен|пр,ед,муж|пр,ед,сред|дат,ед,муж|дат,ед,сред|вин,ед,жен|вин,мн,неод|вин,ед,муж,неод|им,ед,муж|твор,ед,муж|твор,ед,сред|вин,мн,од|пр,мн,сред|вин,мн,сред|дат,мн,сред|род,мн,сред|твор,мн,сред|им,мн,сред|пр,мн,муж|вин,мн,муж|вин,ед,муж|дат,мн,муж)'}], 'text': 'ее'}, {'text': ' '}, {'analysis': [{'lex': 'блестящий', 'wt': 0.818117352, 'gr': 'A=(пр,мн,полн|вин,мн,полн,од|род,мн,полн)'}], 'text': 'блестящих'}, {'text': ' '}, {'analysis': [{'lex': 'глаз', 'wt': 1, 'gr': 'S,муж,неод=(вин,ед|род,мн|им,ед)'}], 'text': 'глаз'}]\n",
            "Wall time: 39.6 s\n"
          ],
          "name": "stdout"
        }
      ]
    },
    {
      "cell_type": "markdown",
      "metadata": {
        "id": "kl4LD1GpNUi_",
        "colab_type": "text"
      },
      "source": [
        "### поправить"
      ]
    },
    {
      "cell_type": "code",
      "metadata": {
        "id": "e_qFBelZNUjC",
        "colab_type": "code",
        "colab": {}
      },
      "source": [
        "with open('d:/mystem/k.txt', 'w') as f:\n",
        "    f.write(text)"
      ],
      "execution_count": 0,
      "outputs": []
    },
    {
      "cell_type": "code",
      "metadata": {
        "id": "lK1EbpdRNUjX",
        "colab_type": "code",
        "colab": {}
      },
      "source": [
        "!cd /D d:/mystem mystem.exe k.txt output.txt"
      ],
      "execution_count": 0,
      "outputs": []
    },
    {
      "cell_type": "markdown",
      "metadata": {
        "id": "ZGSWBlnzNUjo",
        "colab_type": "text"
      },
      "source": [
        "### help"
      ]
    },
    {
      "cell_type": "markdown",
      "metadata": {
        "id": "G3Xp7_mYNUjr",
        "colab_type": "text"
      },
      "source": [
        "Преобразование в json, запись в файлы"
      ]
    },
    {
      "cell_type": "code",
      "metadata": {
        "id": "vqdEF8cfNUju",
        "colab_type": "code",
        "colab": {},
        "outputId": "37906aec-5d7d-4a65-d232-245d14bfa48f"
      },
      "source": [
        "%%time\n",
        "import json\n",
        "\n",
        "with open('j_lemmas.txt', 'w', encoding='utf-8') as f:\n",
        "    json.dump(lemmas, f, ensure_ascii = False)\n",
        "\n",
        "with open('j_full_stem.txt', 'w', encoding='utf-8') as f:\n",
        "    json.dump(full_stem, f, ensure_ascii = False)"
      ],
      "execution_count": 0,
      "outputs": [
        {
          "output_type": "stream",
          "text": [
            "Wall time: 204 ms\n"
          ],
          "name": "stdout"
        }
      ]
    },
    {
      "cell_type": "markdown",
      "metadata": {
        "id": "NuFLHQXpNUj8",
        "colab_type": "text"
      },
      "source": [
        "## Pymorphy"
      ]
    },
    {
      "cell_type": "markdown",
      "metadata": {
        "id": "qFTnSec-NUkF",
        "colab_type": "text"
      },
      "source": [
        "токенизировать текст с помощью nltk"
      ]
    },
    {
      "cell_type": "code",
      "metadata": {
        "id": "4V28bW2FNUkI",
        "colab_type": "code",
        "colab": {},
        "outputId": "035e6e7d-001b-477a-f61d-604113c8684d"
      },
      "source": [
        "import nltk\n",
        "nltk.download('punkt')"
      ],
      "execution_count": 0,
      "outputs": [
        {
          "output_type": "stream",
          "text": [
            "[nltk_data] Error loading punkt: <urlopen error [Errno 11001]\n",
            "[nltk_data]     getaddrinfo failed>\n"
          ],
          "name": "stderr"
        },
        {
          "output_type": "execute_result",
          "data": {
            "text/plain": [
              "False"
            ]
          },
          "metadata": {
            "tags": []
          },
          "execution_count": 6
        }
      ]
    },
    {
      "cell_type": "code",
      "metadata": {
        "id": "O1j6Eap-NUkT",
        "colab_type": "code",
        "colab": {},
        "outputId": "35bd9065-2f0d-4c59-907a-48afebd43f02"
      },
      "source": [
        "%%time\n",
        "\n",
        "from nltk.tokenize import word_tokenize\n",
        "\n",
        "tokens = word_tokenize(text)\n",
        "print(tokens[0:100])"
      ],
      "execution_count": 0,
      "outputs": [
        {
          "output_type": "stream",
          "text": [
            "['Долли', 'холодно', 'посмотрела', 'на', 'Анну', '.', 'Она', 'ждала', 'теперь', 'притворно-сочувственных', 'фраз', ';', 'но', 'Анна', 'ничего', 'такого', 'не', 'сказала', '.', '--', 'Долли', ',', 'милая', '!', '--', 'сказала', 'она', ',', '--', 'я', 'не', 'хочу', 'ни', 'говорить', 'тебе', 'за', 'него', ',', 'ни', 'утешать', ';', 'это', 'нельзя', '.', 'Но', ',', 'душенька', ',', 'мне', 'просто', 'жалко', ',', 'жалко', 'тебя', 'всею', 'душой', '!', 'Из-за', 'густых', 'ресниц', 'ее', 'блестящих', 'глаз', 'вдруг', 'показались', 'слезы', '.', 'Она', 'пересела', 'ближе', 'к', 'невестке', 'и', 'взяла', 'ее', 'руку', 'своею', 'энергическою', 'маленькою', 'рукой', '.', 'Долли', 'не', 'отстранилась', ',', 'но', 'лицо', 'ее', 'не', 'изменяло', 'своего', 'сухого', 'выражения', '.', 'Она', 'сказала', ':', '--', 'Утешить', 'меня']\n",
            "Wall time: 219 ms\n"
          ],
          "name": "stdout"
        }
      ]
    },
    {
      "cell_type": "markdown",
      "metadata": {
        "id": "cxQYxPKaNUke",
        "colab_type": "text"
      },
      "source": [
        "разобрать слова с помощью pymorphy, замерить время работы"
      ]
    },
    {
      "cell_type": "code",
      "metadata": {
        "id": "8a9HhCCYNUkh",
        "colab_type": "code",
        "colab": {},
        "outputId": "cd79716b-9a91-4eaf-b719-f4265f41d3e5"
      },
      "source": [
        "%%time\n",
        "from pymorphy2 import MorphAnalyzer\n",
        "morph = MorphAnalyzer()\n",
        "\n",
        "result = {}\n",
        "\n",
        "for number, token in enumerate(tokens):\n",
        "    words = morph.parse(token)\n",
        "    form = words[0]\n",
        "    this_word = {}\n",
        "    this_word['слово'] = form.word\n",
        "    this_word['разбор'] = str(form.tag)\n",
        "    this_word['лемма'] = form.normal_form\n",
        "    this_word['вероятность'] = form.score\n",
        "    result[number] = this_word\n",
        "\n",
        "result[0:100]"
      ],
      "execution_count": 0,
      "outputs": [
        {
          "output_type": "error",
          "ename": "TypeError",
          "evalue": "unhashable type: 'slice'",
          "traceback": [
            "\u001b[1;31m---------------------------------------------------------------------------\u001b[0m",
            "\u001b[1;31mTypeError\u001b[0m                                 Traceback (most recent call last)",
            "\u001b[1;32m<timed exec>\u001b[0m in \u001b[0;36m<module>\u001b[1;34m\u001b[0m\n",
            "\u001b[1;31mTypeError\u001b[0m: unhashable type: 'slice'"
          ]
        }
      ]
    },
    {
      "cell_type": "markdown",
      "metadata": {
        "id": "qio-tywjNUk9",
        "colab_type": "text"
      },
      "source": [
        "сохраните результат (хотя бы лемма + часть речи) в json"
      ]
    },
    {
      "cell_type": "code",
      "metadata": {
        "id": "Mh1gNoJiNUlB",
        "colab_type": "code",
        "colab": {},
        "outputId": "a32eac29-07ba-465f-b85b-c0dc0403e50e"
      },
      "source": [
        "%%time\n",
        "import json\n",
        "\n",
        "with open('j_lemmas_pymprth.txt', 'w', encoding='utf-8') as f:\n",
        "    json.dump(result, f, ensure_ascii = False)"
      ],
      "execution_count": 0,
      "outputs": [
        {
          "output_type": "stream",
          "text": [
            "Wall time: 68 ms\n"
          ],
          "name": "stdout"
        }
      ]
    },
    {
      "cell_type": "markdown",
      "metadata": {
        "id": "NQ8nQ54eNUlM",
        "colab_type": "text"
      },
      "source": [
        "придумать, как сохранить весь разбор в .tag в json"
      ]
    },
    {
      "cell_type": "code",
      "metadata": {
        "id": "kQDjslfgNUlV",
        "colab_type": "code",
        "colab": {}
      },
      "source": [
        ""
      ],
      "execution_count": 0,
      "outputs": []
    },
    {
      "cell_type": "markdown",
      "metadata": {
        "id": "6XrNjXzzNUlf",
        "colab_type": "text"
      },
      "source": [
        "Процент глаголов и топ-20 глаголов и наречий"
      ]
    },
    {
      "cell_type": "code",
      "metadata": {
        "id": "jwUh6SQONUlx",
        "colab_type": "code",
        "colab": {},
        "outputId": "6b769746-7db4-4cad-ae8b-9cebb704726e"
      },
      "source": [
        "verbs = 0\n",
        "for number, params in result.items():\n",
        "    for p in params:\n",
        "        if p == 'разбор':\n",
        "            if params['разбор'].startswith('VERB'):\n",
        "                verbs += 1\n",
        "print(verbs)"
      ],
      "execution_count": 0,
      "outputs": [
        {
          "output_type": "stream",
          "text": [
            "26\n"
          ],
          "name": "stdout"
        }
      ]
    },
    {
      "cell_type": "code",
      "metadata": {
        "id": "II3saTocNUl6",
        "colab_type": "code",
        "colab": {}
      },
      "source": [
        ""
      ],
      "execution_count": 0,
      "outputs": []
    }
  ]
}